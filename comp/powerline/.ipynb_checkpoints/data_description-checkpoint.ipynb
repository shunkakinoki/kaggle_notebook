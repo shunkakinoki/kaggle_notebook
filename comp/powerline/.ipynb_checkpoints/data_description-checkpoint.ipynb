{
 "cells": [
  {
   "attachments": {},
   "cell_type": "markdown",
   "metadata": {},
   "source": [
    "# CONCLUSION\n",
    "\n",
    "META_TRAIN DATA: THERE ARE 2903 IDS (3 SIGNALS FOR EACH ID)  \n",
    "OUT OF 2903, 195 ARE FAULTY = 6.7%"
   ]
  },
  {
   "cell_type": "markdown",
   "metadata": {},
   "source": [
    "## OFFICIAL KAGGLE DESCRIPTION\n",
    "Data Description\n",
    "Faults in electric transmission lines can lead to a destructive phenomenon called partial discharge. If left alone, partial discharges can damage equipment to the point that it stops functioning entirely. Your challenge is to detect partial discharges so that repairs can be made before any lasting harm occurs.\n",
    "\n",
    "Each signal contains 800,000 measurements of a power line's voltage, taken over 20 milliseconds. As the underlying electric grid operates at 50 Hz, this means each signal covers a single complete grid cycle. The grid itself operates on a 3-phase power scheme, and all three phases are measured simultaneously."
   ]
  },
  {
   "cell_type": "markdown",
   "metadata": {},
   "source": [
    "## DESCRIPTION FOR EACH COLUMN\n",
    "\n",
    "SIGNAL_ID: THE NUMBERING/INDEX FOR EACH DATA  \n",
    "ID_MEASUREMENT: THERE ARE 3 FOR EACH SIGNAL  \n",
    "PHASE: 0, 1, 2 PHASE FOR EACH SIGNAL  \n",
    "TARGET: 0 FOR NO PROBLEM 1 FOR FAULTY  "
   ]
  },
  {
   "cell_type": "markdown",
   "metadata": {},
   "source": [
    "### CODE AND TABLES THAT MIGHT SUPPORT IT\n",
    "![TABLE](img/metadata_train.png)"
   ]
  },
  {
   "attachments": {},
   "cell_type": "markdown",
   "metadata": {},
   "source": [
    "![TAIL](img/meta_train_tail.png)"
   ]
  },
  {
   "cell_type": "markdown",
   "metadata": {},
   "source": [
    "![TARGET](img/meta_train_target.png)"
   ]
  },
  {
   "cell_type": "code",
   "execution_count": null,
   "metadata": {},
   "outputs": [],
   "source": []
  }
 ],
 "metadata": {
  "kernelspec": {
   "display_name": "Python 3",
   "language": "python",
   "name": "python3"
  },
  "language_info": {
   "codemirror_mode": {
    "name": "ipython",
    "version": 3
   },
   "file_extension": ".py",
   "mimetype": "text/x-python",
   "name": "python",
   "nbconvert_exporter": "python",
   "pygments_lexer": "ipython3",
   "version": "3.7.2"
  }
 },
 "nbformat": 4,
 "nbformat_minor": 2
}
